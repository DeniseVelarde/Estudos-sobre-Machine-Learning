{
 "cells": [
  {
   "cell_type": "code",
   "execution_count": 88,
   "id": "406fd80f-02e3-47b2-a649-97040ab12b35",
   "metadata": {},
   "outputs": [
    {
     "data": {
      "text/html": [
       "<div>\n",
       "<style scoped>\n",
       "    .dataframe tbody tr th:only-of-type {\n",
       "        vertical-align: middle;\n",
       "    }\n",
       "\n",
       "    .dataframe tbody tr th {\n",
       "        vertical-align: top;\n",
       "    }\n",
       "\n",
       "    .dataframe thead th {\n",
       "        text-align: right;\n",
       "    }\n",
       "</style>\n",
       "<table border=\"1\" class=\"dataframe\">\n",
       "  <thead>\n",
       "    <tr style=\"text-align: right;\">\n",
       "      <th></th>\n",
       "      <th>PassengerId</th>\n",
       "      <th>HomePlanet</th>\n",
       "      <th>CryoSleep</th>\n",
       "      <th>Cabin</th>\n",
       "      <th>Destination</th>\n",
       "      <th>Age</th>\n",
       "      <th>VIP</th>\n",
       "      <th>RoomService</th>\n",
       "      <th>FoodCourt</th>\n",
       "      <th>ShoppingMall</th>\n",
       "      <th>Spa</th>\n",
       "      <th>VRDeck</th>\n",
       "      <th>Name</th>\n",
       "      <th>Transported</th>\n",
       "    </tr>\n",
       "  </thead>\n",
       "  <tbody>\n",
       "    <tr>\n",
       "      <th>0</th>\n",
       "      <td>0001_01</td>\n",
       "      <td>Europa</td>\n",
       "      <td>False</td>\n",
       "      <td>B/0/P</td>\n",
       "      <td>TRAPPIST-1e</td>\n",
       "      <td>39.0</td>\n",
       "      <td>False</td>\n",
       "      <td>0.0</td>\n",
       "      <td>0.0</td>\n",
       "      <td>0.0</td>\n",
       "      <td>0.0</td>\n",
       "      <td>0.0</td>\n",
       "      <td>Maham Ofracculy</td>\n",
       "      <td>False</td>\n",
       "    </tr>\n",
       "    <tr>\n",
       "      <th>1</th>\n",
       "      <td>0002_01</td>\n",
       "      <td>Earth</td>\n",
       "      <td>False</td>\n",
       "      <td>F/0/S</td>\n",
       "      <td>TRAPPIST-1e</td>\n",
       "      <td>24.0</td>\n",
       "      <td>False</td>\n",
       "      <td>109.0</td>\n",
       "      <td>9.0</td>\n",
       "      <td>25.0</td>\n",
       "      <td>549.0</td>\n",
       "      <td>44.0</td>\n",
       "      <td>Juanna Vines</td>\n",
       "      <td>True</td>\n",
       "    </tr>\n",
       "    <tr>\n",
       "      <th>2</th>\n",
       "      <td>0003_01</td>\n",
       "      <td>Europa</td>\n",
       "      <td>False</td>\n",
       "      <td>A/0/S</td>\n",
       "      <td>TRAPPIST-1e</td>\n",
       "      <td>58.0</td>\n",
       "      <td>True</td>\n",
       "      <td>43.0</td>\n",
       "      <td>3576.0</td>\n",
       "      <td>0.0</td>\n",
       "      <td>6715.0</td>\n",
       "      <td>49.0</td>\n",
       "      <td>Altark Susent</td>\n",
       "      <td>False</td>\n",
       "    </tr>\n",
       "    <tr>\n",
       "      <th>3</th>\n",
       "      <td>0003_02</td>\n",
       "      <td>Europa</td>\n",
       "      <td>False</td>\n",
       "      <td>A/0/S</td>\n",
       "      <td>TRAPPIST-1e</td>\n",
       "      <td>33.0</td>\n",
       "      <td>False</td>\n",
       "      <td>0.0</td>\n",
       "      <td>1283.0</td>\n",
       "      <td>371.0</td>\n",
       "      <td>3329.0</td>\n",
       "      <td>193.0</td>\n",
       "      <td>Solam Susent</td>\n",
       "      <td>False</td>\n",
       "    </tr>\n",
       "    <tr>\n",
       "      <th>4</th>\n",
       "      <td>0004_01</td>\n",
       "      <td>Earth</td>\n",
       "      <td>False</td>\n",
       "      <td>F/1/S</td>\n",
       "      <td>TRAPPIST-1e</td>\n",
       "      <td>16.0</td>\n",
       "      <td>False</td>\n",
       "      <td>303.0</td>\n",
       "      <td>70.0</td>\n",
       "      <td>151.0</td>\n",
       "      <td>565.0</td>\n",
       "      <td>2.0</td>\n",
       "      <td>Willy Santantines</td>\n",
       "      <td>True</td>\n",
       "    </tr>\n",
       "  </tbody>\n",
       "</table>\n",
       "</div>"
      ],
      "text/plain": [
       "  PassengerId HomePlanet CryoSleep  Cabin  Destination   Age    VIP  \\\n",
       "0     0001_01     Europa     False  B/0/P  TRAPPIST-1e  39.0  False   \n",
       "1     0002_01      Earth     False  F/0/S  TRAPPIST-1e  24.0  False   \n",
       "2     0003_01     Europa     False  A/0/S  TRAPPIST-1e  58.0   True   \n",
       "3     0003_02     Europa     False  A/0/S  TRAPPIST-1e  33.0  False   \n",
       "4     0004_01      Earth     False  F/1/S  TRAPPIST-1e  16.0  False   \n",
       "\n",
       "   RoomService  FoodCourt  ShoppingMall     Spa  VRDeck               Name  \\\n",
       "0          0.0        0.0           0.0     0.0     0.0    Maham Ofracculy   \n",
       "1        109.0        9.0          25.0   549.0    44.0       Juanna Vines   \n",
       "2         43.0     3576.0           0.0  6715.0    49.0      Altark Susent   \n",
       "3          0.0     1283.0         371.0  3329.0   193.0       Solam Susent   \n",
       "4        303.0       70.0         151.0   565.0     2.0  Willy Santantines   \n",
       "\n",
       "   Transported  \n",
       "0        False  \n",
       "1         True  \n",
       "2        False  \n",
       "3        False  \n",
       "4         True  "
      ]
     },
     "execution_count": 88,
     "metadata": {},
     "output_type": "execute_result"
    }
   ],
   "source": [
    "import pandas as pd\n",
    "\n",
    "df_train = pd.read_csv('train.csv')\n",
    "df_test = pd.read_csv('test.csv')\n",
    "\n",
    "df_train.head()"
   ]
  },
  {
   "cell_type": "code",
   "execution_count": 89,
   "id": "2861eeea-88a4-49b9-8ef5-3aac208f0b86",
   "metadata": {},
   "outputs": [
    {
     "name": "stdout",
     "output_type": "stream",
     "text": [
      "<class 'pandas.core.frame.DataFrame'>\n",
      "RangeIndex: 8693 entries, 0 to 8692\n",
      "Data columns (total 14 columns):\n",
      " #   Column        Non-Null Count  Dtype  \n",
      "---  ------        --------------  -----  \n",
      " 0   PassengerId   8693 non-null   object \n",
      " 1   HomePlanet    8492 non-null   object \n",
      " 2   CryoSleep     8476 non-null   object \n",
      " 3   Cabin         8494 non-null   object \n",
      " 4   Destination   8511 non-null   object \n",
      " 5   Age           8514 non-null   float64\n",
      " 6   VIP           8490 non-null   object \n",
      " 7   RoomService   8512 non-null   float64\n",
      " 8   FoodCourt     8510 non-null   float64\n",
      " 9   ShoppingMall  8485 non-null   float64\n",
      " 10  Spa           8510 non-null   float64\n",
      " 11  VRDeck        8505 non-null   float64\n",
      " 12  Name          8493 non-null   object \n",
      " 13  Transported   8693 non-null   bool   \n",
      "dtypes: bool(1), float64(6), object(7)\n",
      "memory usage: 891.5+ KB\n"
     ]
    }
   ],
   "source": [
    "# Ver quantas linhas, quantas colunas, os tipos e os nulos\n",
    "df_train.info()"
   ]
  },
  {
   "cell_type": "code",
   "execution_count": 90,
   "id": "fd6171d0-36bf-43af-9cb8-208bb357ada2",
   "metadata": {},
   "outputs": [
    {
     "data": {
      "text/html": [
       "<div>\n",
       "<style scoped>\n",
       "    .dataframe tbody tr th:only-of-type {\n",
       "        vertical-align: middle;\n",
       "    }\n",
       "\n",
       "    .dataframe tbody tr th {\n",
       "        vertical-align: top;\n",
       "    }\n",
       "\n",
       "    .dataframe thead th {\n",
       "        text-align: right;\n",
       "    }\n",
       "</style>\n",
       "<table border=\"1\" class=\"dataframe\">\n",
       "  <thead>\n",
       "    <tr style=\"text-align: right;\">\n",
       "      <th></th>\n",
       "      <th>Age</th>\n",
       "      <th>RoomService</th>\n",
       "      <th>FoodCourt</th>\n",
       "      <th>ShoppingMall</th>\n",
       "      <th>Spa</th>\n",
       "      <th>VRDeck</th>\n",
       "    </tr>\n",
       "  </thead>\n",
       "  <tbody>\n",
       "    <tr>\n",
       "      <th>count</th>\n",
       "      <td>8514.000000</td>\n",
       "      <td>8512.000000</td>\n",
       "      <td>8510.000000</td>\n",
       "      <td>8485.000000</td>\n",
       "      <td>8510.000000</td>\n",
       "      <td>8505.000000</td>\n",
       "    </tr>\n",
       "    <tr>\n",
       "      <th>mean</th>\n",
       "      <td>28.827930</td>\n",
       "      <td>224.687617</td>\n",
       "      <td>458.077203</td>\n",
       "      <td>173.729169</td>\n",
       "      <td>311.138778</td>\n",
       "      <td>304.854791</td>\n",
       "    </tr>\n",
       "    <tr>\n",
       "      <th>std</th>\n",
       "      <td>14.489021</td>\n",
       "      <td>666.717663</td>\n",
       "      <td>1611.489240</td>\n",
       "      <td>604.696458</td>\n",
       "      <td>1136.705535</td>\n",
       "      <td>1145.717189</td>\n",
       "    </tr>\n",
       "    <tr>\n",
       "      <th>min</th>\n",
       "      <td>0.000000</td>\n",
       "      <td>0.000000</td>\n",
       "      <td>0.000000</td>\n",
       "      <td>0.000000</td>\n",
       "      <td>0.000000</td>\n",
       "      <td>0.000000</td>\n",
       "    </tr>\n",
       "    <tr>\n",
       "      <th>25%</th>\n",
       "      <td>19.000000</td>\n",
       "      <td>0.000000</td>\n",
       "      <td>0.000000</td>\n",
       "      <td>0.000000</td>\n",
       "      <td>0.000000</td>\n",
       "      <td>0.000000</td>\n",
       "    </tr>\n",
       "    <tr>\n",
       "      <th>50%</th>\n",
       "      <td>27.000000</td>\n",
       "      <td>0.000000</td>\n",
       "      <td>0.000000</td>\n",
       "      <td>0.000000</td>\n",
       "      <td>0.000000</td>\n",
       "      <td>0.000000</td>\n",
       "    </tr>\n",
       "    <tr>\n",
       "      <th>75%</th>\n",
       "      <td>38.000000</td>\n",
       "      <td>47.000000</td>\n",
       "      <td>76.000000</td>\n",
       "      <td>27.000000</td>\n",
       "      <td>59.000000</td>\n",
       "      <td>46.000000</td>\n",
       "    </tr>\n",
       "    <tr>\n",
       "      <th>max</th>\n",
       "      <td>79.000000</td>\n",
       "      <td>14327.000000</td>\n",
       "      <td>29813.000000</td>\n",
       "      <td>23492.000000</td>\n",
       "      <td>22408.000000</td>\n",
       "      <td>24133.000000</td>\n",
       "    </tr>\n",
       "  </tbody>\n",
       "</table>\n",
       "</div>"
      ],
      "text/plain": [
       "               Age   RoomService     FoodCourt  ShoppingMall           Spa  \\\n",
       "count  8514.000000   8512.000000   8510.000000   8485.000000   8510.000000   \n",
       "mean     28.827930    224.687617    458.077203    173.729169    311.138778   \n",
       "std      14.489021    666.717663   1611.489240    604.696458   1136.705535   \n",
       "min       0.000000      0.000000      0.000000      0.000000      0.000000   \n",
       "25%      19.000000      0.000000      0.000000      0.000000      0.000000   \n",
       "50%      27.000000      0.000000      0.000000      0.000000      0.000000   \n",
       "75%      38.000000     47.000000     76.000000     27.000000     59.000000   \n",
       "max      79.000000  14327.000000  29813.000000  23492.000000  22408.000000   \n",
       "\n",
       "             VRDeck  \n",
       "count   8505.000000  \n",
       "mean     304.854791  \n",
       "std     1145.717189  \n",
       "min        0.000000  \n",
       "25%        0.000000  \n",
       "50%        0.000000  \n",
       "75%       46.000000  \n",
       "max    24133.000000  "
      ]
     },
     "execution_count": 90,
     "metadata": {},
     "output_type": "execute_result"
    }
   ],
   "source": [
    "# Ver média, desvio padrão, min, max das colunas numéricas\n",
    "df_train.describe()"
   ]
  },
  {
   "cell_type": "code",
   "execution_count": 91,
   "id": "5218dcf4-4f0b-460a-a9a9-2c09e5ad03ef",
   "metadata": {},
   "outputs": [
    {
     "name": "stdout",
     "output_type": "stream",
     "text": [
      "Planeta Natal:\n",
      " HomePlanet\n",
      "Earth     4602\n",
      "Europa    2131\n",
      "Mars      1759\n",
      "Name: count, dtype: int64\n",
      "\n",
      "Em Criosono:\n",
      " CryoSleep\n",
      "False    5439\n",
      "True     3037\n",
      "Name: count, dtype: int64\n",
      "\n",
      "Destino:\n",
      " Destination\n",
      "TRAPPIST-1e      5915\n",
      "55 Cancri e      1800\n",
      "PSO J318.5-22     796\n",
      "Name: count, dtype: int64\n",
      "\n",
      "Alvo - Transportado:\n",
      " Transported\n",
      "True     0.503624\n",
      "False    0.496376\n",
      "Name: proportion, dtype: float64\n"
     ]
    }
   ],
   "source": [
    "# Ver a distribuição de cada categoria\n",
    "print(\"Planeta Natal:\\n\", df_train['HomePlanet'].value_counts())\n",
    "print(\"\\nEm Criosono:\\n\", df_train['CryoSleep'].value_counts())\n",
    "print(\"\\nDestino:\\n\", df_train['Destination'].value_counts())\n",
    "print(\"\\nAlvo - Transportado:\\n\", df_train['Transported'].value_counts(normalize=True))"
   ]
  },
  {
   "cell_type": "code",
   "execution_count": 92,
   "id": "aec5a5e6-eab8-4bae-9ff5-e2b4d6fa8008",
   "metadata": {},
   "outputs": [
    {
     "name": "stdout",
     "output_type": "stream",
     "text": [
      "Corrigindo os tipos de dados para nao dar problema depois\n"
     ]
    }
   ],
   "source": [
    "print(\"Corrigindo os tipos de dados para nao dar problema depois\")\n",
    "df_train['VIP'] = df_train['VIP'].astype('boolean')\n",
    "df_train['CryoSleep'] = df_train['CryoSleep'].astype('boolean')\n",
    "df_test['VIP'] = df_test['VIP'].astype('boolean')\n",
    "df_test['CryoSleep'] = df_test['CryoSleep'].astype('boolean')"
   ]
  },
  {
   "cell_type": "code",
   "execution_count": 93,
   "id": "7b15aa6a-ea30-489f-9e21-ed6b3afd5356",
   "metadata": {},
   "outputs": [
    {
     "name": "stdout",
     "output_type": "stream",
     "text": [
      "Zerando gastos para passageiros em CryoSleep, pois eles nao gastam\n"
     ]
    }
   ],
   "source": [
    "print(\"Zerando gastos para passageiros em CryoSleep, pois eles nao gastam\")\n",
    "cols_gastos = ['RoomService', 'FoodCourt', 'ShoppingMall', 'Spa', 'VRDeck']\n",
    "df_train.loc[df_train['CryoSleep'] == True, cols_gastos] = 0\n",
    "df_test.loc[df_test['CryoSleep'] == True, cols_gastos] = 0"
   ]
  },
  {
   "cell_type": "code",
   "execution_count": 94,
   "id": "237ef0ba-4550-409e-bb56-710d3b809945",
   "metadata": {},
   "outputs": [
    {
     "name": "stdout",
     "output_type": "stream",
     "text": [
      "Preenchendo valores nulos num\n"
     ]
    }
   ],
   "source": [
    "print(\"Preenchendo valores nulos num\")\n",
    "colunas_numericas = ['Age', 'RoomService', 'FoodCourt', 'ShoppingMall', 'Spa', 'VRDeck']\n",
    "\n",
    "for col in colunas_numericas:\n",
    "    mediana_treino = df_train[col].median() \n",
    "    df_train[col] = df_train[col].fillna(mediana_treino)\n",
    "    df_test[col] = df_test[col].fillna(mediana_treino)"
   ]
  },
  {
   "cell_type": "code",
   "execution_count": 95,
   "id": "793b92da-adc4-4d97-976e-737b1747015f",
   "metadata": {},
   "outputs": [
    {
     "name": "stdout",
     "output_type": "stream",
     "text": [
      "Preenchendo valores nulos categóricos\n"
     ]
    }
   ],
   "source": [
    "print(\"Preenchendo valores nulos categóricos\")\n",
    "colunas_categoricas = ['HomePlanet', 'CryoSleep', 'Cabin', 'Destination', 'VIP']\n",
    "\n",
    "for col in colunas_categoricas:\n",
    "    moda_treino = df_train[col].mode()[0] \n",
    "    df_train[col] = df_train[col].fillna(moda_treino)\n",
    "    df_test[col] = df_test[col].fillna(moda_treino)"
   ]
  },
  {
   "cell_type": "code",
   "execution_count": 96,
   "id": "238e62ba-fc5d-4c30-9ebb-de0568b6b9a7",
   "metadata": {},
   "outputs": [
    {
     "name": "stdout",
     "output_type": "stream",
     "text": [
      "\n",
      "Verificação de nulos no df_train:\n",
      "PassengerId       0\n",
      "HomePlanet        0\n",
      "CryoSleep         0\n",
      "Cabin             0\n",
      "Destination       0\n",
      "Age               0\n",
      "VIP               0\n",
      "RoomService       0\n",
      "FoodCourt         0\n",
      "ShoppingMall      0\n",
      "Spa               0\n",
      "VRDeck            0\n",
      "Name            200\n",
      "Transported       0\n",
      "dtype: int64\n",
      "\n",
      "Verificação de nulos no df_test:\n",
      "PassengerId      0\n",
      "HomePlanet       0\n",
      "CryoSleep        0\n",
      "Cabin            0\n",
      "Destination      0\n",
      "Age              0\n",
      "VIP              0\n",
      "RoomService      0\n",
      "FoodCourt        0\n",
      "ShoppingMall     0\n",
      "Spa              0\n",
      "VRDeck           0\n",
      "Name            94\n",
      "dtype: int64\n"
     ]
    }
   ],
   "source": [
    "print(\"\\nVerificação de nulos no df_train:\")\n",
    "print(df_train.isnull().sum())\n",
    "\n",
    "print(\"\\nVerificação de nulos no df_test:\")\n",
    "print(df_test.isnull().sum())"
   ]
  },
  {
   "cell_type": "code",
   "execution_count": 97,
   "id": "abc94526-0526-4a3b-a160-b65e53547084",
   "metadata": {},
   "outputs": [
    {
     "name": "stdout",
     "output_type": "stream",
     "text": [
      "deu\n"
     ]
    }
   ],
   "source": [
    "# O .str.split expande a coluna em um novo DataFrame\n",
    "df_train[['Deck', 'Num', 'Side']] = df_train['Cabin'].str.split('/', expand=True)\n",
    "df_test[['Deck', 'Num', 'Side']] = df_test['Cabin'].str.split('/', expand=True)\n",
    "print(\"deu\")"
   ]
  },
  {
   "cell_type": "code",
   "execution_count": 98,
   "id": "fb11690f-a4a4-407a-b255-477d63d0530e",
   "metadata": {},
   "outputs": [
    {
     "name": "stdout",
     "output_type": "stream",
     "text": [
      "deu\n"
     ]
    }
   ],
   "source": [
    "# Lista das colunas de gastos\n",
    "cols_gastos = ['RoomService', 'FoodCourt', 'ShoppingMall', 'Spa', 'VRDeck']\n",
    "# Soma os valores (fillna(0) garante que nulos não atrapalhem a soma)\n",
    "df_train['TotalSpent'] = df_train[cols_gastos].sum(axis=1)\n",
    "df_test['TotalSpent'] = df_test[cols_gastos].sum(axis=1)\n",
    "print(\"deu\")"
   ]
  },
  {
   "cell_type": "code",
   "execution_count": 99,
   "id": "ef05d584-a5c5-489b-aaa9-93e63efd5292",
   "metadata": {},
   "outputs": [
    {
     "name": "stdout",
     "output_type": "stream",
     "text": [
      "Coluna 'Name' removida de ambos os dataframes.\n"
     ]
    }
   ],
   "source": [
    "# Remove colunas que não serão usadas como features no modelo.\n",
    "df_train = df_train.drop('Name', axis=1)\n",
    "df_test = df_test.drop('Name', axis=1)\n",
    "\n",
    "print(\"Coluna 'Name' removida de ambos os dataframes.\")"
   ]
  },
  {
   "cell_type": "code",
   "execution_count": 100,
   "id": "787f3c61-3f59-4f36-b974-f53328bbd134",
   "metadata": {},
   "outputs": [
    {
     "name": "stdout",
     "output_type": "stream",
     "text": [
      "Iniciando a codificação das colunas...\n",
      "Colunas booleanas mapeadas.\n",
      "Colunas categóricas mapeadas com get_dummies.\n",
      "DataFrames alinhados. Agora eles têm as mesmas colunas.\n",
      "\n",
      "Verificando se ainda sobrou algum nulo em qualquer lugar\n",
      "Nulos restantes no df_train: 0\n",
      "Nulos restantes no df_test: 0\n"
     ]
    }
   ],
   "source": [
    "# Mapeamento de colunas booleanas\n",
    "print(\"Iniciando a codificação das colunas...\")\n",
    "for df in [df_train, df_test]:\n",
    "    for col in ['CryoSleep', 'VIP']:\n",
    "        if col in df.columns: # VIP pode não estar no teste, mas está\n",
    "            df[col] = df[col].astype('bool').astype('int')\n",
    "\n",
    "# A coluna alvo 'Transported' só existe no df_train\n",
    "df_train['Transported'] = df_train['Transported'].astype('bool').astype('int')\n",
    "print(\"Colunas booleanas mapeadas.\")\n",
    "\n",
    "#One-Hot Encoding\n",
    "colunas_para_encode = ['HomePlanet', 'Destination', 'Deck', 'Side']\n",
    "df_train = pd.get_dummies(df_train, columns=colunas_para_encode, drop_first=True, dtype=int)\n",
    "df_test = pd.get_dummies(df_test, columns=colunas_para_encode, drop_first=True, dtype=int)\n",
    "print(\"Colunas categóricas mapeadas com get_dummies.\")\n",
    "\n",
    "#Pega as colunas do treino depois do get_dummies (excluindo o alvo)\n",
    "train_cols = df_train.drop('Transported', axis=1).columns\n",
    "test_cols = df_test.columns\n",
    "\n",
    "# Colunas que estão no treino mas não no teste\n",
    "missing_in_test = set(train_cols) - set(test_cols)\n",
    "for c in missing_in_test:\n",
    "    df_test[c] = 0\n",
    "\n",
    "# Colunas que estão no teste mas não no treino \n",
    "missing_in_train = set(test_cols) - set(train_cols)\n",
    "for c in missing_in_train:\n",
    "    df_train[c] = 0\n",
    "\n",
    "# Garante que a ordem das colunas seja a mesma\n",
    "df_test = df_test[train_cols]\n",
    "\n",
    "print(\"DataFrames alinhados. Agora eles têm as mesmas colunas.\")\n",
    "\n",
    "# VERIFICA\n",
    "print(\"\\nVerificando se ainda sobrou algum nulo em qualquer lugar\")\n",
    "print(f\"Nulos restantes no df_train: {df_train.isnull().sum().sum()}\")\n",
    "print(f\"Nulos restantes no df_test: {df_test.isnull().sum().sum()}\")"
   ]
  },
  {
   "cell_type": "code",
   "execution_count": 101,
   "id": "1c61c4a2-e1d9-43b1-84c8-e0b3a966867f",
   "metadata": {},
   "outputs": [
    {
     "name": "stdout",
     "output_type": "stream",
     "text": [
      "Verificando nulos em X (DEPOIS DO TRATAMENTO):\n",
      "0\n",
      "\n",
      "Verificando nulos em y (DEPOIS DO TRATAMENTO):\n",
      "0\n",
      "\n",
      "Novas features selecionadas:\n",
      "['CryoSleep', 'Age', 'VIP', 'RoomService', 'FoodCourt', 'ShoppingMall', 'Spa', 'VRDeck', 'Num', 'TotalSpent', 'HomePlanet_Europa', 'HomePlanet_Mars', 'Destination_PSO J318.5-22', 'Destination_TRAPPIST-1e', 'Deck_B', 'Deck_C', 'Deck_D', 'Deck_E', 'Deck_F', 'Deck_G', 'Deck_T', 'Side_S']\n"
     ]
    }
   ],
   "source": [
    "# Criando a lista de features automaticamente\n",
    "# Exclui colunas que não são úteis para o modelo\n",
    "colunas_para_excluir = ['PassengerId', 'Cabin', 'Name', 'Transported']\n",
    "features = [col for col in df_train.columns if col not in colunas_para_excluir]\n",
    "\n",
    "# Separando os dados de treino em X e y\n",
    "X = df_train[features]\n",
    "y = df_train['Transported']\n",
    "\n",
    "# Os nulos devem ter sumido.\n",
    "print(\"Verificando nulos em X (DEPOIS DO TRATAMENTO):\")\n",
    "print(X.isnull().sum().sum())\n",
    "\n",
    "print(\"\\nVerificando nulos em y (DEPOIS DO TRATAMENTO):\")\n",
    "print(y.isnull().sum().sum())\n",
    "\n",
    "print(\"\\nNovas features selecionadas:\")\n",
    "print(features)"
   ]
  },
  {
   "cell_type": "code",
   "execution_count": 102,
   "id": "80c9e031-8bc8-4fb8-a7a7-bfb815e8b9ca",
   "metadata": {},
   "outputs": [
    {
     "name": "stdout",
     "output_type": "stream",
     "text": [
      "Verificando nulos em X_train IMEDIATAMENTE antes do fit:\n",
      "False\n",
      "Verificando nulos em y_train IMEDIATAMENTE antes do fit:\n",
      "False\n"
     ]
    }
   ],
   "source": [
    "# Divisão dos dados\n",
    "X = df_train[features]\n",
    "y = df_train['Transported']\n",
    "X_train, X_val, y_train, y_val = train_test_split(X, y, test_size=0.2, random_state=42)\n",
    "\n",
    "# VERIFICA\n",
    "print(\"Verificando nulos em X_train IMEDIATAMENTE antes do fit:\")\n",
    "print(X_train.isnull().sum().any()) # Deve imprimir False\n",
    "\n",
    "print(\"Verificando nulos em y_train IMEDIATAMENTE antes do fit:\")\n",
    "print(y_train.isnull().sum().any()) # Deve imprimir False"
   ]
  },
  {
   "cell_type": "code",
   "execution_count": 103,
   "id": "057484da-b601-43d6-87b2-5493a58e70de",
   "metadata": {},
   "outputs": [
    {
     "name": "stdout",
     "output_type": "stream",
     "text": [
      "A acurácia do nosso modelo de Regressão Logística é: 78.15%\n"
     ]
    }
   ],
   "source": [
    "from sklearn.preprocessing import StandardScaler\n",
    "from sklearn.model_selection import train_test_split\n",
    "from sklearn.linear_model import LogisticRegression\n",
    "from sklearn.metrics import accuracy_score\n",
    "\n",
    "X = df_train[features]\n",
    "y = df_train['Transported']\n",
    "X_train, X_val, y_train, y_val = train_test_split(X, y, test_size=0.2, random_state=42)\n",
    "\n",
    "#Crie e aplique o Scaler\n",
    "scaler = StandardScaler()\n",
    "\n",
    "# \"Aprenda\" a escala APENAS com os dados de treino e transforma\n",
    "X_train_scaled = scaler.fit_transform(X_train)\n",
    "\n",
    "# a MESMA escala aprendida para transformar os dados de validação\n",
    "X_val_scaled = scaler.transform(X_val)\n",
    "\n",
    "# treinando o modelo com os dados escalados\n",
    "model = LogisticRegression(max_iter=1000)\n",
    "model.fit(X_train_scaled, y_train) # Use X_train_scaled aqui\n",
    "\n",
    "#fazer previsões com os dados de validação escalados\n",
    "predictions = model.predict(X_val_scaled) # E X_val_scaled aqui\n",
    "\n",
    "accuracy = accuracy_score(y_val, predictions)\n",
    "print(f\"A acurácia do nosso modelo de Regressão Logística é: {accuracy:.2%}\")"
   ]
  },
  {
   "cell_type": "code",
   "execution_count": 104,
   "id": "ef4cdf16-0791-429d-adb3-4ee60378c7f6",
   "metadata": {},
   "outputs": [
    {
     "name": "stdout",
     "output_type": "stream",
     "text": [
      "Amostra do arquivo de submissão:\n",
      "  PassengerId  Transported\n",
      "0     0013_01         True\n",
      "1     0018_01        False\n",
      "2     0019_01         True\n",
      "3     0021_01         True\n",
      "4     0023_01         True\n",
      "\n",
      "Arquivo 'submission.csv' criado com sucesso!\n"
     ]
    }
   ],
   "source": [
    "# Selecionar as mesmas 'features' que foram usadas no treino\n",
    "# A lista 'features' já foi criada em uma célula anterior\n",
    "X_test_final = df_test[features]\n",
    "\n",
    "#APLICAR O MESMO SCALER que foi treinado com os dados de treino\n",
    "# É CRUCIAL usar apenas .transform() aqui, para aplicar a mesma escala\n",
    "# que o modelo aprendeu, sem \"aprender\" de novo com os dados de teste.\n",
    "X_test_final_scaled = scaler.transform(X_test_final)\n",
    "\n",
    "#Fazer as previsões com os dados de teste preparados e escalados\n",
    "final_predictions = model.predict(X_test_final_scaled)\n",
    "\n",
    "# converter as previsões de volta para True/False, como no arquivo de exemplo\n",
    "# O modelo retorna 0 e 1, o Kaggle espera booleanos (True/False)\n",
    "final_predictions_bool = final_predictions.astype(bool)\n",
    "\n",
    "#Criar o DataFrame para submissão\n",
    "submission = pd.DataFrame({\n",
    "    'PassengerId': df_test['PassengerId'], # Usa o PassengerId original do df_test\n",
    "    'Transported': final_predictions_bool\n",
    "})\n",
    "\n",
    "#Visualiza e salvar o arquivo de submissão\n",
    "print(\"Amostra do arquivo de submissão:\")\n",
    "print(submission.head())\n",
    "\n",
    "submission.to_csv('submission.csv', index=False)\n",
    "\n",
    "print(\"\\nArquivo 'submission.csv' criado com sucesso!\")"
   ]
  },
  {
   "cell_type": "code",
   "execution_count": null,
   "id": "da1e175f-50e4-4655-bdea-a24b94ea48bc",
   "metadata": {},
   "outputs": [],
   "source": []
  },
  {
   "cell_type": "code",
   "execution_count": null,
   "id": "81cdb201-6296-4843-8176-c8d47e67ddd9",
   "metadata": {},
   "outputs": [],
   "source": []
  }
 ],
 "metadata": {
  "kernelspec": {
   "display_name": "Python 3 (ipykernel)",
   "language": "python",
   "name": "python3"
  },
  "language_info": {
   "codemirror_mode": {
    "name": "ipython",
    "version": 3
   },
   "file_extension": ".py",
   "mimetype": "text/x-python",
   "name": "python",
   "nbconvert_exporter": "python",
   "pygments_lexer": "ipython3",
   "version": "3.11.11"
  }
 },
 "nbformat": 4,
 "nbformat_minor": 5
}
