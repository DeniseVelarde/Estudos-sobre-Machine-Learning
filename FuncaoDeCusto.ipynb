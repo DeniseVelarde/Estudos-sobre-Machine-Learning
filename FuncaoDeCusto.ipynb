{
 "cells": [
  {
   "cell_type": "code",
   "execution_count": 27,
   "id": "41eee4b7-b37f-4dba-8a6f-a1d0d41b026f",
   "metadata": {},
   "outputs": [
    {
     "name": "stdout",
     "output_type": "stream",
     "text": [
      "12500.0\n"
     ]
    }
   ],
   "source": [
    "#impotar as bibliotecas necessarias\n",
    "import numpy as np\n",
    "import matplotlib.pyplot as plt \n",
    "#seguindo o mesmo exemplo de custo por tamanho das casas:\n",
    "x_tamanho = np.array([1.0, 2.0])\n",
    "y_preco = np.array([100.00, 300.0])\n",
    "\n",
    "#fazendo a função de custo J(w,b) = 1/2m*somatorio de 1 a m que multiplica (wxi + b - yi)^2:\n",
    "def funcao_custo(x,y,w,b):\n",
    "    #numero de treinamentos, no caso 2 por que soh temos dois pontos\n",
    "    m = len(x_tamanho)\n",
    "    somatoria = 0\n",
    "    for i in range(m):\n",
    "        fwb = w * x[i] + b\n",
    "        elevado = (fwb - y[i])**2\n",
    "        somatoria = somatoria + elevado\n",
    "    custo_total = somatoria/(2*m)\n",
    "    return custo_total\n",
    "\n",
    "#para um w = 100 e um b = 200\n",
    "custo_aleatorio = funcao_custo(x_tamanho, y_preco, 100, 200)\n",
    "print(custo_aleatorio) \n"
   ]
  }
 ],
 "metadata": {
  "kernelspec": {
   "display_name": "Python [conda env:base] *",
   "language": "python",
   "name": "conda-base-py"
  },
  "language_info": {
   "codemirror_mode": {
    "name": "ipython",
    "version": 3
   },
   "file_extension": ".py",
   "mimetype": "text/x-python",
   "name": "python",
   "nbconvert_exporter": "python",
   "pygments_lexer": "ipython3",
   "version": "3.12.7"
  }
 },
 "nbformat": 4,
 "nbformat_minor": 5
}
